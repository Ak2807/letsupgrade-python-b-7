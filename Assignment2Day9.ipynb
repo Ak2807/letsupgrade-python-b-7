{
  "nbformat": 4,
  "nbformat_minor": 0,
  "metadata": {
    "colab": {
      "name": "Assignment2Day9.ipynb",
      "provenance": [],
      "toc_visible": true
    },
    "kernelspec": {
      "name": "python3",
      "display_name": "Python 3"
    }
  },
  "cells": [
    {
      "cell_type": "code",
      "metadata": {
        "id": "GxkIZPSjm108",
        "colab_type": "code",
        "colab": {
          "base_uri": "https://localhost:8080/",
          "height": 35
        },
        "outputId": "9a745724-ab28-42f5-eb07-8adee954e782"
      },
      "source": [
        "def getArmstrongnum():\n",
        "   for num in range(1,1000):  \n",
        "      sum = 0  \n",
        "      temp = num  \n",
        "      while temp > 0:  \n",
        "          digit = temp % 10  \n",
        "          sum += digit ** 3  \n",
        "          temp //= 10  \n",
        "          if num == sum:  \n",
        "              yield num  \n",
        "\n",
        "a=list ( getArmstrongnum () )\n",
        "print(a)"
      ],
      "execution_count": 24,
      "outputs": [
        {
          "output_type": "stream",
          "text": [
            "[1, 64, 125, 153, 216, 370, 371, 407, 729]\n"
          ],
          "name": "stdout"
        }
      ]
    }
  ]
}