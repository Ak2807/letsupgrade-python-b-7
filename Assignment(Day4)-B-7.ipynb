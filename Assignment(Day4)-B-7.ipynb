{
  "nbformat": 4,
  "nbformat_minor": 0,
  "metadata": {
    "colab": {
      "name": "Untitled0.ipynb",
      "provenance": []
    },
    "kernelspec": {
      "name": "python3",
      "display_name": "Python 3"
    }
  },
  "cells": [
    {
      "cell_type": "code",
      "metadata": {
        "id": "3516UUoRlaz8",
        "colab_type": "code",
        "colab": {}
      },
      "source": [
        "lower = 1042000\n",
        "upper = 702648265\n",
        "for num in range(lower,upper+1):\n",
        "  temp=num\n",
        "  sum=0\n",
        "  while temp>0:\n",
        "      digit=temp%10\n",
        "      sum=sum+digit**3\n",
        "      temp=temp//10\n",
        "  if sum==num:\n",
        "      print (\"First armstrong no is \",num)\n",
        "      break"
      ],
      "execution_count": null,
      "outputs": []
    }
  ]
}