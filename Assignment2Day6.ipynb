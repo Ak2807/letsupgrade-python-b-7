{
  "nbformat": 4,
  "nbformat_minor": 0,
  "metadata": {
    "colab": {
      "name": "Assignment2Day6.ipynb",
      "provenance": []
    },
    "kernelspec": {
      "name": "python3",
      "display_name": "Python 3"
    }
  },
  "cells": [
    {
      "cell_type": "code",
      "metadata": {
        "id": "rcYz4ZfgKRyD",
        "colab_type": "code",
        "colab": {}
      },
      "source": [
        "class cone():\n",
        "  def volume(self,x,y):\n",
        "    self.r = x\n",
        "    self.h = y\n",
        "    vol = 3.14*(self.r**2)*self.h/3\n",
        "    print(vol)\n",
        "  def surface(self,x,y):\n",
        "    self.r = x\n",
        "    self.h = y\n",
        "    surf = 3.14*(self.r*2) + 3.14*self.r ((self.r*2+self.h*2)*1/2)\n",
        "    print(surf)\n",
        "\n",
        "a=cone() \n",
        "a.volume(2,3)\n",
        "\n",
        "a.surface(2,3)"
      ],
      "execution_count": null,
      "outputs": []
    }
  ]
}