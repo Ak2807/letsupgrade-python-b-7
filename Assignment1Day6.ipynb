{
  "nbformat": 4,
  "nbformat_minor": 0,
  "metadata": {
    "colab": {
      "name": "Assignment1Day6.ipynb",
      "provenance": []
    },
    "kernelspec": {
      "name": "python3",
      "display_name": "Python 3"
    }
  },
  "cells": [
    {
      "cell_type": "code",
      "metadata": {
        "id": "AGt-HQnPKBEf",
        "colab_type": "code",
        "colab": {
          "base_uri": "https://localhost:8080/",
          "height": 69
        },
        "outputId": "b00a8b45-048c-43fd-96d5-04d4ed2df40e"
      },
      "source": [
        "class bankAccount():\n",
        "    ownerName='Akshat gupta'\n",
        "    account=100000\n",
        "    def deposit(self,x):\n",
        "      self.account=self.account+x\n",
        "    def withdrawl(self,x):\n",
        "      if x<=self.account:\n",
        "        account=account-x\n",
        "      else:\n",
        "        print(\"Withdrawl amount is more than balance\")   \n",
        "a1 = bankAccount()\n",
        "ac=a1.withdrawl(500000)\n",
        "print(ac)\n",
        "\n",
        "a1.deposit(500)\n",
        "print(a1.account)\n",
        " "
      ],
      "execution_count": 2,
      "outputs": [
        {
          "output_type": "stream",
          "text": [
            "Withdrawl amount is more than balance\n",
            "None\n",
            "100500\n"
          ],
          "name": "stdout"
        }
      ]
    }
  ]
}