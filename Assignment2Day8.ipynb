{
  "nbformat": 4,
  "nbformat_minor": 0,
  "metadata": {
    "colab": {
      "name": "Assignment2Day8.ipynb",
      "provenance": [],
      "toc_visible": true
    },
    "kernelspec": {
      "name": "python3",
      "display_name": "Python 3"
    }
  },
  "cells": [
    {
      "cell_type": "code",
      "metadata": {
        "id": "3cHFs9SEg3-H",
        "colab_type": "code",
        "colab": {
          "base_uri": "https://localhost:8080/",
          "height": 35
        },
        "outputId": "65f7ed07-3c52-47d6-b9d6-a02100b230fc"
      },
      "source": [
        "try :\n",
        "    file = open(\"Akshat.txt\",\"r\")\n",
        "    file.write(\"Hi I m akshat gupta\")\n",
        "except Exception as e:\n",
        "    print(e)"
      ],
      "execution_count": 5,
      "outputs": [
        {
          "output_type": "stream",
          "text": [
            "not writable\n"
          ],
          "name": "stdout"
        }
      ]
    }
  ]
}